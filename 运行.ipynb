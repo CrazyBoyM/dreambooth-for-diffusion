{
 "cells": [
  {
   "attachments": {},
   "cell_type": "markdown",
   "id": "a0b34c19-4215-46f9-9def-65e73629665c",
   "metadata": {},
   "source": [
    "# Dreambooth Stable Diffusion 集成化环境训练\n",
    "如果你是在autodl上的机器可以直接使用封装好的镜像创建实例，开箱即用  \n",
    "如果是本地或者其他服务器上也可以使用，需要手动安装一些pip包\n",
    "\n",
    "## 注意\n",
    "本项目仅供用于学习、测试人工智能技术使用  \n",
    "请勿用于训练生成不良或侵权图片内容\n",
    "\n",
    "## 关于项目\n",
    "在autodl封装的镜像名称为：dreambooth-for-diffusion  \n",
    "可在创建实例时直接选择公开的算法镜像使用。  \n",
    "在autodl内蒙A区A5000的机器上封装，如遇到问题且无法自行解决的朋友请使用同一环境。  \n",
    "白菜写教程时做了尽可能多的测试，但仍然无法确保每一个环节都完全覆盖    \n",
    "如有小错误可尝试手动解决，或者访问git项目地址查看最新的README  \n",
    "项目地址：https://github.com/CrazyBoyM/dreambooth-for-diffusion\n",
    "\n",
    "## #强烈建议\n",
    "1.用vscode的ssh功能远程连接到本服务器，训练体验更好，autodl自带的notebook也不错，有文件上传、下载功能。   \n",
    "（vscode连接autodl教程：https://www.autodl.com/docs/vscode/ ）  \n",
    "### 2.(重要)把train文件夹整个移动到/root/autodl-tmp/路径下进行训练(数据盘)，避免系统盘空间满\n",
    "有的机器数据盘也很小，需要自行关注开合适的机器或进行扩容\n",
    "\n",
    "如果遇到问题可到b站主页找该教程对应训练演示的视频：https://space.bilibili.com/291593914\n",
    "（因为现在写时视频还没做 \n",
    "\n",
    "## 服务器的数据迁移\n",
    "经常关机后再开机发现机器资源被占用了，这时候你只能另外开一台机器了  \n",
    "但是对于已经关机的机器在菜单上有个功能是“跨实例拷贝数据”，  \n",
    "可以很方便地同步/root/autodl-tmp文件夹下的内容到其他已开机的机器（所以推荐工作文件都放这）  \n",
    "（注意，只适用于同一区域的机器之间）\n",
    "数据迁移教程：https://www.autodl.com/docs/migrate_instance/"
   ]
  },
  {
   "attachments": {},
   "cell_type": "markdown",
   "id": "f091e609-bacc-469a-b6cf-bffe331a8944",
   "metadata": {},
   "source": [
    "### 本文件为notebook在线运行版\n",
    "具体详细的教程和参数说明请在根目录下教程.md 文件中查看。  \n",
    "在notebook中执行linux命令，需要前面加个!(感叹号)  \n",
    "代码块前如果有个[*]，表示正在运行该步骤，并不是卡住了\n"
   ]
  },
  {
   "attachments": {},
   "cell_type": "markdown",
   "id": "3555d8bd-fb3f-4303-8915-ec6fefcc780c",
   "metadata": {},
   "source": [
    "# 笔者前言\n",
    "\n",
    "linux压缩一个文件夹为单个文件包的命令：\n",
    "```\n",
    "!zip xx.zip -r ./xxx\n",
    "```\n",
    "解压一个包到文件夹：\n",
    "```\n",
    "!unzip xx.zip -d xxx\n",
    "```\n",
    "或许你在上传、下载数据集时会用到。\n",
    "\n",
    "其他linux基础命令：https://www.autodl.com/docs/linux/\n",
    "\n",
    "关于文件上传下载的提速可查看官网文档推荐的几种方式：https://www.autodl.com/docs/scp/"
   ]
  },
  {
   "attachments": {},
   "cell_type": "markdown",
   "id": "34cf6ed1-f2b1-4abd-baf6-565ac00567ab",
   "metadata": {},
   "source": [
    "### 首先，进入工作文件夹（记得先把dreambooth-for-diffusion文件夹移动到autodl-tmp目录下）"
   ]
  },
  {
   "cell_type": "code",
   "execution_count": null,
   "id": "a1249a32-ce15-4b1b-8068-8149ad40588b",
   "metadata": {},
   "outputs": [],
   "source": [
    "%cd /root/autodl-tmp/dreambooth-for-diffusion"
   ]
  },
  {
   "attachments": {},
   "cell_type": "markdown",
   "id": "ccba0e31-f01d-43e5-b474-7d88e0b09bd8",
   "metadata": {},
   "source": [
    "# 准备数据集\n",
    "该部分请参考教程.md文件中的详细内容自行上传并处理你的数据集  \n",
    "dreambooth-for-diffusion/datasets/test中为16张仅供于学习测试的样本数据，便于你了解以下代码的用处  \n"
   ]
  },
  {
   "attachments": {},
   "cell_type": "markdown",
   "id": "470113f6-795a-41f8-a6b3-09f854a4cbc3",
   "metadata": {},
   "source": [
    "## 一键裁剪\n",
    "### 图像批量center crop裁剪(正方形裁剪)\n",
    "./datasets/test是原始图片数据文件夹，请上传你的图片数据并进行更换  \n",
    "width和height请设置为8的整倍数，并记得修改训练脚本中的参数  \n",
    "（在显存低于20G的设备上请修改使用小于768的分辨率数据去训练，比如512）  \n",
    "如果是对透明底的png图处理成纯色底可以加--png参数，具体可以看对应的代码文件"
   ]
  },
  {
   "cell_type": "code",
   "execution_count": 18,
   "id": "8b696a59",
   "metadata": {},
   "outputs": [],
   "source": [
    "!python tools/handle_images.py --origin_image_path  ./datasets/test \\\n",
    "                --output_image_path ./datasets/test2 \\\n",
    "                --width=768 --height=768"
   ]
  },
  {
   "attachments": {},
   "cell_type": "markdown",
   "id": "2633307a",
   "metadata": {},
   "source": [
    "最大边同比缩放(后续输入任意比例的图片)   "
   ]
  },
  {
   "cell_type": "code",
   "execution_count": 9,
   "id": "10d2bb3d-9002-4d3b-a4be-f5f74a008b9c",
   "metadata": {},
   "outputs": [
    {
     "name": "stderr",
     "output_type": "stream",
     "text": [
      "d:\\PC\\cyvision\\dreambooth-for-diffusion\\tools\\scale_images.py:28: DeprecationWarning: ANTIALIAS is deprecated and will be removed in Pillow 10 (2023-07-01). Use Resampling.LANCZOS instead.\n",
      "  resized_image = image.resize((new_width, new_height), Image.ANTIALIAS)\n"
     ]
    }
   ],
   "source": [
    "!python tools/scale_images.py --origin_image_path  ./datasets/test \\\n",
    "                --output_image_path  ./datasets/test5 \\\n",
    "                --max_side_length 712"
   ]
  },
  {
   "attachments": {},
   "cell_type": "markdown",
   "id": "34efda73-9cb4-4a54-8aac-489ded452a50",
   "metadata": {},
   "source": [
    "## 一键打标签\n",
    "### 图像批量自动标注\n",
    "使用deepdanbooru生成tags标注文件。（仅针对纯二次元类图片效果较好，其他风格请手动标注）  \n",
    "./datasets/test2中是需要打标注的图片数据，请按需更换为自己的路径 "
   ]
  },
  {
   "cell_type": "code",
   "execution_count": 2,
   "id": "8863a53a-4650-4f27-863e-2a70e8b89e11",
   "metadata": {},
   "outputs": [],
   "source": [
    "# 该步根据需要标注文件数量不同，需要运行一段时间（测试6000张图片需要10分钟）\n",
    "!python tools/label_images.py  --path=./datasets/cyAnime --model_path='./deepdanbooru/'"
   ]
  },
  {
   "attachments": {},
   "cell_type": "markdown",
   "id": "def72b19-9851-400f-8672-48023b3e95fb",
   "metadata": {},
   "source": [
    "## 转换ckpt检查点文件为diffusers官方权重\n",
    "输出的文件在dreambooth-for-diffusion/model下  \n",
    "./ckpt_models/sd_1-5.ckpt需要更换为你自己的权重文件路径  "
   ]
  },
  {
   "attachments": {},
   "cell_type": "markdown",
   "id": "0582e3c4-e899-4a3b-a468-d49e7775efc6",
   "metadata": {},
   "source": [
    "如需转换写实风格模型："
   ]
  },
  {
   "cell_type": "code",
   "execution_count": null,
   "id": "05aaf7fd-315f-45b4-9b22-70a46a18424f",
   "metadata": {},
   "outputs": [],
   "source": [
    "# 该步需要运行大约一分钟 \n",
    "!python tools/ckpt2diffusers.py \\\n",
    "    --checkpoint_path=./ckpt_models/sd_1-5.ckpt \\\n",
    "    --dump_path=./model \\\n",
    "    --original_config_file=./ckpt_models/model.yaml \\\n",
    "    --scheduler_type=\"ddim\""
   ]
  },
  {
   "attachments": {},
   "cell_type": "markdown",
   "id": "48c7893a-22db-4ea2-95dc-93fdbd6b5c4b",
   "metadata": {},
   "source": [
    "如需转换二次元风格模型："
   ]
  },
  {
   "cell_type": "code",
   "execution_count": null,
   "id": "f7afb70d-7af4-4bd1-804e-40927f1257e2",
   "metadata": {},
   "outputs": [],
   "source": [
    "# 该步需要运行大约一分钟 \n",
    "!python tools/ckpt2diffusers.py \\\n",
    "    --checkpoint_path=./ckpt_models/nd_lastest.ckpt \\\n",
    "    --dump_path=./model \\\n",
    "    --vae_path=./ckpt_models/animevae.pt \\\n",
    "    --original_config_file=./ckpt_models/model.yaml \\\n",
    "    --scheduler_type=\"ddim\""
   ]
  },
  {
   "attachments": {},
   "cell_type": "markdown",
   "id": "a1edb9be-1de3-488e-baa3-8f3ab6b8f269",
   "metadata": {},
   "source": [
    "对于需要转换某个特殊模型(7g)并遇到报错的同学，ckpt_models里的nd_lastest.ckpt就是你需要的文件。  \n",
    "如果希望手动转换，我在./tools下放了一份ckpt_prune.py可以参考。"
   ]
  },
  {
   "attachments": {},
   "cell_type": "markdown",
   "id": "3a3470d3-1691-438c-b8d7-df2cbf885614",
   "metadata": {},
   "source": [
    "# 训练Unet和text encoder\n",
    "以下训练脚本会自动帮你启动tensorboard日志监控进程，入口可参考: https://www.autodl.com/docs/tensorboard/  \n",
    "使用tensorboard面板可以帮助分析loss在不同step的总体下降情况  \n",
    "如果你嫌输出太长，可以在以下命令每一行后加一句 &> log.txt, 会把输出都扔到这个文件中 \n",
    "```\n",
    "!sh train_style.sh &> log.txt\n",
    "```\n",
    "本代码包环境已在A5000、3090测试通过，如果你在某些机器上运行遇到问题可以尝试卸载编译的xformers\n",
    "```\n",
    "!pip uninstall xformers\n",
    "```"
   ]
  },
  {
   "attachments": {},
   "cell_type": "markdown",
   "id": "98645b45-4cf1-49f8-b2bb-42a5a8771164",
   "metadata": {},
   "source": [
    "### 如果需要训练特定人、事物： \n",
    "（推荐准备3~5张风格统一、特定对象的图片）  \n",
    "请打开train_object.sh具体修改里面的参数"
   ]
  },
  {
   "cell_type": "code",
   "execution_count": null,
   "id": "8b6833e3-8d3f-438a-b45d-0711e9724496",
   "metadata": {},
   "outputs": [],
   "source": [
    "# 大约十分钟后才会在tensorboard有日志（因为前十分钟在生成同类别伪图）\n",
    "!sh train_object.sh "
   ]
  },
  {
   "cell_type": "code",
   "execution_count": null,
   "id": "78b21c73",
   "metadata": {},
   "outputs": [],
   "source": [
    "# 事先进行最大边同比缩放后，支持任意尺寸输入(batch_size=1)\n",
    "!sh train_object_all.sh  "
   ]
  },
  {
   "attachments": {},
   "cell_type": "markdown",
   "id": "594a0352-8bb5-45de-bb19-0028b671569b",
   "metadata": {},
   "source": [
    "### 如果要训练画风： \n",
    "（推荐准备3000+张图片，包含尽可能的多样性，数据决定训练出的模型质量）  \n",
    "请打开train_object具体修改里面的参数   "
   ]
  },
  {
   "cell_type": "code",
   "execution_count": 3,
   "id": "442cff33-d264-4096-97e2-0c578229c814",
   "metadata": {},
   "outputs": [],
   "source": [
    "# 正常训练立刻就可以在tensorboard看到日志\n",
    "# 如果输入图像是正方形\n",
    "!sh train_style.sh  "
   ]
  },
  {
   "cell_type": "code",
   "execution_count": null,
   "id": "f387b807",
   "metadata": {},
   "outputs": [],
   "source": [
    "# 事先进行最大边同比缩放后，支持任意尺寸输入(batch_size=1)\n",
    "!sh train_style_all.sh  "
   ]
  },
  {
   "attachments": {},
   "cell_type": "markdown",
   "id": "3aa1d170-e2d1-4f72-8b0c-b6bfd5f0c318",
   "metadata": {},
   "source": [
    "后台训练法请参考教程.md中的内容"
   ]
  },
  {
   "attachments": {},
   "cell_type": "markdown",
   "id": "9aece8a8-c9ec-41eb-b6ad-c6c88b6203e1",
   "metadata": {},
   "source": [
    "省钱训练法（训练成功后自动关机，适合步数很大且夜晚训练的场景）"
   ]
  },
  {
   "cell_type": "code",
   "execution_count": 6,
   "id": "52fff58d-1a88-4a59-a961-b13b52812425",
   "metadata": {},
   "outputs": [],
   "source": [
    "!sh back_train.sh"
   ]
  },
  {
   "attachments": {},
   "cell_type": "markdown",
   "id": "17557280-3a5a-4bde-95c3-f20e1ccffa4d",
   "metadata": {},
   "source": [
    "## 拓展：训练Textual inversion\n"
   ]
  },
  {
   "cell_type": "code",
   "execution_count": null,
   "id": "36a543ee-56f8-405a-baaa-b784d96c7d40",
   "metadata": {},
   "outputs": [],
   "source": [
    "!sh train_textual_inversion.sh"
   ]
  },
  {
   "attachments": {},
   "cell_type": "markdown",
   "id": "f467b2e9-9170-4f19-aea9-7ce0b4e5444e",
   "metadata": {},
   "source": [
    "### 测试训练效果\n",
    "打开dreambooth-for-diffusion/test_model.py文件修改其中的model_path和prompt，然后执行以下测试  \n",
    "会生成一张图片 在左侧test-1、2、3.png"
   ]
  },
  {
   "cell_type": "code",
   "execution_count": 4,
   "id": "b462f33b-48e2-4092-b3de-463025e4ff9e",
   "metadata": {},
   "outputs": [],
   "source": [
    "# 大约5~10s \n",
    "!python test_model.py"
   ]
  },
  {
   "attachments": {},
   "cell_type": "markdown",
   "id": "47abb5fd-2f84-4344-a9cf-539b52515971",
   "metadata": {},
   "source": [
    "### 转换diffusers官方权重为ckpt检查点文件\n",
    "输出的文件在dreambooth-for-diffusion/ckpt_models/中，名为newModel.ckpt"
   ]
  },
  {
   "attachments": {},
   "cell_type": "markdown",
   "id": "5bfe9643-ef1d-42a3-a427-c4904f3a8631",
   "metadata": {},
   "source": [
    "原始保存："
   ]
  },
  {
   "cell_type": "code",
   "execution_count": null,
   "id": "2ad27225-10ed-4b3c-9978-bd909404949c",
   "metadata": {},
   "outputs": [],
   "source": [
    "!python tools/diffusers2ckpt.py ./new_model ./ckpt_models/newModel.ckpt "
   ]
  },
  {
   "attachments": {},
   "cell_type": "markdown",
   "id": "b08a5e37-97d3-4c1e-9ba7-e331af23437f",
   "metadata": {},
   "source": [
    "以下代码添加--half 保存float16半精度，权重文件大小会减半（约2g），效果基本一致"
   ]
  },
  {
   "cell_type": "code",
   "execution_count": null,
   "id": "cba99145-6aab-41b6-a5b7-6e0c4fd96641",
   "metadata": {},
   "outputs": [],
   "source": [
    "!python tools/diffusers2ckpt.py ./new_model ./ckpt_models/newModel_half.ckpt --half"
   ]
  },
  {
   "attachments": {},
   "cell_type": "markdown",
   "id": "d1f98d06-27f3-45b6-85df-c57cda5d6166",
   "metadata": {},
   "source": [
    "下载ckpt文件，去玩吧~"
   ]
  },
  {
   "attachments": {},
   "cell_type": "markdown",
   "id": "b13f0627-1d0a-4ae2-ab9c-90a605ee4a0e",
   "metadata": {},
   "source": [
    "有问题可以进XDiffusion QQ Group：455521885  "
   ]
  },
  {
   "attachments": {},
   "cell_type": "markdown",
   "id": "b939a03f-23c9-410d-89be-02e154eeb6b4",
   "metadata": {},
   "source": [
    "### 记得定期清理不需要的中间权重和文件，不然容易导致空间满\n",
    "大部分问题已在教程.md中详细记录，也包含其他非autodl机器手动部署该训练一体化封装代码包的步骤"
   ]
  },
  {
   "cell_type": "code",
   "execution_count": null,
   "id": "3236d62e-fa3d-4826-874e-431f208cfb6d",
   "metadata": {},
   "outputs": [],
   "source": [
    "# 清理文件的示例\n",
    "!rm -rf ./model* # 删除当前目录model文件/文件夹\n",
    "!rm -rf ./new_* # 删除当前目录所有new_开头的模型文件夹\n",
    "# !rm -rf ./datasets/test2 #删除datasets中的test2数据集 "
   ]
  },
  {
   "cell_type": "code",
   "execution_count": null,
   "id": "224924ae-2d6d-47d0-aa36-0989a6572bd2",
   "metadata": {},
   "outputs": [],
   "source": []
  }
 ],
 "metadata": {
  "kernelspec": {
   "display_name": "Python 3 (ipykernel)",
   "language": "python",
   "name": "python3"
  },
  "language_info": {
   "codemirror_mode": {
    "name": "ipython",
    "version": 3
   },
   "file_extension": ".py",
   "mimetype": "text/x-python",
   "name": "python",
   "nbconvert_exporter": "python",
   "pygments_lexer": "ipython3",
   "version": "3.9.12"
  }
 },
 "nbformat": 4,
 "nbformat_minor": 5
}
